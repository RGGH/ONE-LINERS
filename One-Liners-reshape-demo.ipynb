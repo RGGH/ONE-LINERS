{
 "cells": [
  {
   "cell_type": "markdown",
   "id": "afc1cb70",
   "metadata": {},
   "source": [
    "# Python One Liners - Ch 4"
   ]
  },
  {
   "cell_type": "code",
   "execution_count": 114,
   "id": "6330bed4",
   "metadata": {},
   "outputs": [],
   "source": [
    "from sklearn.linear_model import LinearRegression\n",
    "import numpy as np"
   ]
  },
  {
   "cell_type": "code",
   "execution_count": 115,
   "id": "55cc7d62",
   "metadata": {},
   "outputs": [],
   "source": [
    "apple = np.array([155,156,157])"
   ]
  },
  {
   "cell_type": "code",
   "execution_count": 116,
   "id": "e54512b9",
   "metadata": {},
   "outputs": [],
   "source": [
    "n = len(apple)"
   ]
  },
  {
   "cell_type": "code",
   "execution_count": 117,
   "id": "d8d1e0bf",
   "metadata": {},
   "outputs": [
    {
     "data": {
      "text/plain": [
       "(3,)"
      ]
     },
     "execution_count": 117,
     "metadata": {},
     "output_type": "execute_result"
    }
   ],
   "source": [
    "apple.shape"
   ]
  },
  {
   "cell_type": "code",
   "execution_count": 118,
   "id": "2a1207bc",
   "metadata": {},
   "outputs": [
    {
     "data": {
      "text/plain": [
       "array([0, 1, 2])"
      ]
     },
     "execution_count": 118,
     "metadata": {},
     "output_type": "execute_result"
    }
   ],
   "source": [
    "np.arange(n)"
   ]
  },
  {
   "cell_type": "code",
   "execution_count": 119,
   "id": "cf854be6",
   "metadata": {},
   "outputs": [
    {
     "data": {
      "text/plain": [
       "(3,)"
      ]
     },
     "execution_count": 119,
     "metadata": {},
     "output_type": "execute_result"
    }
   ],
   "source": [
    "apple.shape"
   ]
  },
  {
   "cell_type": "code",
   "execution_count": 120,
   "id": "fe6c0961",
   "metadata": {},
   "outputs": [],
   "source": [
    "z = np.arange(n).reshape((n))"
   ]
  },
  {
   "cell_type": "code",
   "execution_count": 121,
   "id": "1d6a6278",
   "metadata": {},
   "outputs": [
    {
     "data": {
      "text/plain": [
       "(3,)"
      ]
     },
     "execution_count": 121,
     "metadata": {},
     "output_type": "execute_result"
    }
   ],
   "source": [
    "z.shape"
   ]
  },
  {
   "cell_type": "code",
   "execution_count": 122,
   "id": "92daca23",
   "metadata": {},
   "outputs": [
    {
     "name": "stdout",
     "output_type": "stream",
     "text": [
      "[158. 159.]\n"
     ]
    }
   ],
   "source": [
    "## one liner\n",
    "\n",
    "model = LinearRegression().fit(np.arange(n).reshape((n,1)),apple)\n",
    "print(model.predict([[3],[4]]))"
   ]
  }
 ],
 "metadata": {
  "kernelspec": {
   "display_name": "Python 3",
   "language": "python",
   "name": "python3"
  },
  "language_info": {
   "codemirror_mode": {
    "name": "ipython",
    "version": 3
   },
   "file_extension": ".py",
   "mimetype": "text/x-python",
   "name": "python",
   "nbconvert_exporter": "python",
   "pygments_lexer": "ipython3",
   "version": "3.9.5"
  }
 },
 "nbformat": 4,
 "nbformat_minor": 5
}
