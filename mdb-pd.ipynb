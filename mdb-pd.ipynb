{
 "cells": [
  {
   "cell_type": "code",
   "execution_count": 90,
   "metadata": {},
   "outputs": [],
   "source": [
    "# Module Imports\n",
    "import mariadb\n",
    "import sys\n",
    "import pandas as pd"
   ]
  },
  {
   "cell_type": "markdown",
   "metadata": {},
   "source": [
    "### Read the data FROM a csv file"
   ]
  },
  {
   "cell_type": "code",
   "execution_count": 91,
   "metadata": {},
   "outputs": [
    {
     "data": {
      "text/html": [
       "<div>\n",
       "<style scoped>\n",
       "    .dataframe tbody tr th:only-of-type {\n",
       "        vertical-align: middle;\n",
       "    }\n",
       "\n",
       "    .dataframe tbody tr th {\n",
       "        vertical-align: top;\n",
       "    }\n",
       "\n",
       "    .dataframe thead th {\n",
       "        text-align: right;\n",
       "    }\n",
       "</style>\n",
       "<table border=\"1\" class=\"dataframe\">\n",
       "  <thead>\n",
       "    <tr style=\"text-align: right;\">\n",
       "      <th></th>\n",
       "      <th>pat_num</th>\n",
       "      <th>claim</th>\n",
       "      <th>status</th>\n",
       "    </tr>\n",
       "  </thead>\n",
       "  <tbody>\n",
       "    <tr>\n",
       "      <th>0</th>\n",
       "      <td>111222</td>\n",
       "      <td>123</td>\n",
       "      <td>accepted</td>\n",
       "    </tr>\n",
       "    <tr>\n",
       "      <th>1</th>\n",
       "      <td>111333</td>\n",
       "      <td>234</td>\n",
       "      <td>accepted</td>\n",
       "    </tr>\n",
       "    <tr>\n",
       "      <th>2</th>\n",
       "      <td>222444</td>\n",
       "      <td>432</td>\n",
       "      <td>rejected</td>\n",
       "    </tr>\n",
       "    <tr>\n",
       "      <th>3</th>\n",
       "      <td>3444555</td>\n",
       "      <td>431</td>\n",
       "      <td>rejected</td>\n",
       "    </tr>\n",
       "    <tr>\n",
       "      <th>4</th>\n",
       "      <td>4666777</td>\n",
       "      <td>65</td>\n",
       "      <td>accpted</td>\n",
       "    </tr>\n",
       "  </tbody>\n",
       "</table>\n",
       "</div>"
      ],
      "text/plain": [
       "   pat_num  claim    status\n",
       "0   111222    123  accepted\n",
       "1   111333    234  accepted\n",
       "2   222444    432  rejected\n",
       "3  3444555    431  rejected\n",
       "4  4666777     65   accpted"
      ]
     },
     "execution_count": 91,
     "metadata": {},
     "output_type": "execute_result"
    }
   ],
   "source": [
    "df = pd.read_csv(r'claims.csv')\n",
    "df"
   ]
  },
  {
   "cell_type": "code",
   "execution_count": 92,
   "metadata": {},
   "outputs": [],
   "source": [
    "# Connect to MariaDB Platform\n",
    "try:\n",
    "    conn = mariadb.connect(\n",
    "        user=\"user3\",\n",
    "        password=\"redandgreen\",\n",
    "        host=\"192.168.1.9\",\n",
    "        port=3306,\n",
    "        database=\"exampledb\"\n",
    "\n",
    "    )\n",
    "except mariadb.Error as e:\n",
    "    print(f\"Error connecting to MariaDB Platform: {e}\")\n",
    "    sys.exit(1)\n",
    "\n",
    "# Get Cursor\n",
    "cursor = conn.cursor()"
   ]
  },
  {
   "cell_type": "code",
   "execution_count": 93,
   "metadata": {},
   "outputs": [],
   "source": [
    "#Create Table as long as it doesn't already exist\n",
    "\n",
    "# cursor.execute(\n",
    "# 'CREATE TABLE IF NOT EXISTS patients3 (\n",
    "#     id INT AUTO_INCREMENT PRIMARY KEY, \n",
    "#     pat_num varchar(50), \n",
    "#     claim varchar(50), \n",
    "#     status varchar(50))'\n",
    "# )"
   ]
  },
  {
   "cell_type": "markdown",
   "metadata": {},
   "source": [
    "### Add the csv data to SQL"
   ]
  },
  {
   "cell_type": "code",
   "execution_count": 94,
   "metadata": {},
   "outputs": [],
   "source": [
    "for row in df.itertuples():\n",
    "    cursor.execute(\"\"\"\n",
    "                INSERT INTO patients3\n",
    "                (pat_num, claim, status)\n",
    "                VALUES \n",
    "                (%s,%s,%s)\n",
    "                \"\"\",\n",
    "                (row.pat_num, \n",
    "                row.claim,\n",
    "                row.status,\n",
    "                ))\n",
    "conn.commit()"
   ]
  },
  {
   "cell_type": "markdown",
   "metadata": {},
   "source": [
    "### Query the SQL database and print the Patient Numbers"
   ]
  },
  {
   "cell_type": "code",
   "execution_count": 95,
   "metadata": {},
   "outputs": [],
   "source": [
    "cur = conn.cursor()\n",
    "cur.execute(\n",
    "    \"SELECT pat_num FROM patients3\"\n",
    ")"
   ]
  },
  {
   "cell_type": "code",
   "execution_count": 96,
   "metadata": {},
   "outputs": [
    {
     "name": "stdout",
     "output_type": "stream",
     "text": [
      "PatientNumber: ('111222',)\n",
      "PatientNumber: ('111333',)\n",
      "PatientNumber: ('222444',)\n",
      "PatientNumber: ('3444555',)\n",
      "PatientNumber: ('4666777',)\n",
      "PatientNumber: ('111222',)\n",
      "PatientNumber: ('111333',)\n",
      "PatientNumber: ('222444',)\n",
      "PatientNumber: ('3444555',)\n",
      "PatientNumber: ('4666777',)\n",
      "PatientNumber: ('111222',)\n",
      "PatientNumber: ('111333',)\n",
      "PatientNumber: ('222444',)\n",
      "PatientNumber: ('3444555',)\n",
      "PatientNumber: ('4666777',)\n",
      "PatientNumber: ('111222',)\n",
      "PatientNumber: ('111333',)\n",
      "PatientNumber: ('222444',)\n",
      "PatientNumber: ('3444555',)\n",
      "PatientNumber: ('4666777',)\n",
      "PatientNumber: ('111222',)\n",
      "PatientNumber: ('111333',)\n",
      "PatientNumber: ('222444',)\n",
      "PatientNumber: ('3444555',)\n",
      "PatientNumber: ('4666777',)\n",
      "PatientNumber: ('111222',)\n",
      "PatientNumber: ('111333',)\n",
      "PatientNumber: ('222444',)\n",
      "PatientNumber: ('3444555',)\n",
      "PatientNumber: ('4666777',)\n"
     ]
    }
   ],
   "source": [
    "# Print results selection from SQL query\n",
    "\n",
    "for (pat_num) in cur:\n",
    "    print(f\"PatientNumber: {pat_num}\")"
   ]
  },
  {
   "cell_type": "markdown",
   "metadata": {},
   "source": [
    "### Print results selection from PANDAS (with it's SQL query)"
   ]
  },
  {
   "cell_type": "code",
   "execution_count": 97,
   "metadata": {},
   "outputs": [
    {
     "data": {
      "text/html": [
       "<div>\n",
       "<style scoped>\n",
       "    .dataframe tbody tr th:only-of-type {\n",
       "        vertical-align: middle;\n",
       "    }\n",
       "\n",
       "    .dataframe tbody tr th {\n",
       "        vertical-align: top;\n",
       "    }\n",
       "\n",
       "    .dataframe thead th {\n",
       "        text-align: right;\n",
       "    }\n",
       "</style>\n",
       "<table border=\"1\" class=\"dataframe\">\n",
       "  <thead>\n",
       "    <tr style=\"text-align: right;\">\n",
       "      <th></th>\n",
       "      <th>id</th>\n",
       "      <th>pat_num</th>\n",
       "      <th>claim</th>\n",
       "      <th>status</th>\n",
       "    </tr>\n",
       "  </thead>\n",
       "  <tbody>\n",
       "    <tr>\n",
       "      <th>0</th>\n",
       "      <td>1</td>\n",
       "      <td>111222</td>\n",
       "      <td>123</td>\n",
       "      <td>accepted</td>\n",
       "    </tr>\n",
       "    <tr>\n",
       "      <th>1</th>\n",
       "      <td>2</td>\n",
       "      <td>111333</td>\n",
       "      <td>234</td>\n",
       "      <td>accepted</td>\n",
       "    </tr>\n",
       "    <tr>\n",
       "      <th>2</th>\n",
       "      <td>3</td>\n",
       "      <td>222444</td>\n",
       "      <td>432</td>\n",
       "      <td>rejected</td>\n",
       "    </tr>\n",
       "    <tr>\n",
       "      <th>3</th>\n",
       "      <td>4</td>\n",
       "      <td>3444555</td>\n",
       "      <td>431</td>\n",
       "      <td>rejected</td>\n",
       "    </tr>\n",
       "    <tr>\n",
       "      <th>4</th>\n",
       "      <td>5</td>\n",
       "      <td>4666777</td>\n",
       "      <td>65</td>\n",
       "      <td>accpted</td>\n",
       "    </tr>\n",
       "  </tbody>\n",
       "</table>\n",
       "</div>"
      ],
      "text/plain": [
       "   id  pat_num claim    status\n",
       "0   1   111222   123  accepted\n",
       "1   2   111333   234  accepted\n",
       "2   3   222444   432  rejected\n",
       "3   4  3444555   431  rejected\n",
       "4   5  4666777    65   accpted"
      ]
     },
     "execution_count": 97,
     "metadata": {},
     "output_type": "execute_result"
    }
   ],
   "source": [
    "# Create SQL query for Pandas to run\n",
    "sql = \"\"\"\n",
    "\n",
    "SELECT *\n",
    "FROM patients3\n",
    "\n",
    "\"\"\"\n",
    "df = pd.read_sql(sql, conn)\n",
    "df.head()"
   ]
  }
 ],
 "metadata": {
  "kernelspec": {
   "display_name": "Python 3",
   "language": "python",
   "name": "python3"
  },
  "language_info": {
   "codemirror_mode": {
    "name": "ipython",
    "version": 3
   },
   "file_extension": ".py",
   "mimetype": "text/x-python",
   "name": "python",
   "nbconvert_exporter": "python",
   "pygments_lexer": "ipython3",
   "version": "3.8.5"
  }
 },
 "nbformat": 4,
 "nbformat_minor": 4
}
