{
 "cells": [
  {
   "cell_type": "code",
   "execution_count": 24,
   "id": "a04989b8",
   "metadata": {},
   "outputs": [],
   "source": [
    "from sklearn.linear_model import LogisticRegression\n",
    "import numpy as np"
   ]
  },
  {
   "cell_type": "code",
   "execution_count": 25,
   "id": "1e7bf526",
   "metadata": {},
   "outputs": [],
   "source": [
    "## Data (Cigarettes, Cancer)"
   ]
  },
  {
   "cell_type": "code",
   "execution_count": 26,
   "id": "11b3c5e3",
   "metadata": {},
   "outputs": [],
   "source": [
    "X = np.array([[0,\"No\"],\n",
    "              [10,\"No\"],\n",
    "              [60,\"Yes\"],\n",
    "              [90,\"Yes\"]    \n",
    "])"
   ]
  },
  {
   "cell_type": "code",
   "execution_count": 27,
   "id": "dab2a863",
   "metadata": {},
   "outputs": [
    {
     "data": {
      "text/plain": [
       "4"
      ]
     },
     "execution_count": 27,
     "metadata": {},
     "output_type": "execute_result"
    }
   ],
   "source": [
    "n = len(X)\n",
    "n"
   ]
  },
  {
   "cell_type": "code",
   "execution_count": 28,
   "id": "24b3bc16",
   "metadata": {},
   "outputs": [
    {
     "name": "stdout",
     "output_type": "stream",
     "text": [
      "['No' 'No' 'No' 'Yes' 'Yes']\n"
     ]
    }
   ],
   "source": [
    "model = LogisticRegression().fit(X[:,0].reshape(n,1), X[:,1])\n",
    "print(model.predict([[2],[12],[13],[40],[50]]))"
   ]
  }
 ],
 "metadata": {
  "kernelspec": {
   "display_name": "Python 3",
   "language": "python",
   "name": "python3"
  },
  "language_info": {
   "codemirror_mode": {
    "name": "ipython",
    "version": 3
   },
   "file_extension": ".py",
   "mimetype": "text/x-python",
   "name": "python",
   "nbconvert_exporter": "python",
   "pygments_lexer": "ipython3",
   "version": "3.9.5"
  }
 },
 "nbformat": 4,
 "nbformat_minor": 5
}
