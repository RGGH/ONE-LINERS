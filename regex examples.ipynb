{
 "cells": [
  {
   "cell_type": "markdown",
   "metadata": {},
   "source": [
    "## regex examples"
   ]
  },
  {
   "cell_type": "code",
   "execution_count": 84,
   "metadata": {},
   "outputs": [],
   "source": [
    "import re"
   ]
  },
  {
   "cell_type": "code",
   "execution_count": 85,
   "metadata": {},
   "outputs": [],
   "source": [
    "# -----------------------------------------------------------------------------\n",
    "# Look behind example -------we want the number before 'etage'-----------------\n",
    "# -----------------------------------------------------------------------------"
   ]
  },
  {
   "cell_type": "code",
   "execution_count": 86,
   "metadata": {},
   "outputs": [
    {
     "name": "stdout",
     "output_type": "stream",
     "text": [
      "Vendor Name=  BUNGLE E A\n",
      "Vendor Number=  223344556677\n"
     ]
    }
   ],
   "source": [
    "# -----------------------------------------------------------------------------\n",
    "# Look ahead examples ---------------------------------------------------------\n",
    "# -----------------------------------------------------------------------------\n",
    "# we want to extract the vendor name and number\n",
    "\n",
    "invoice = \"Page 1 of 1  Claim NoOur ReferenceDentist's ReferencePatientDateAmount \\\n",
    "Vendor InformationVendor Number:223344556677Vendor Name:BUNGLE E APayment Number:95000033000\\\n",
    "Remittance Date:11.01.2021Pay Run Identification:XZY11\\\n",
    "Bank Account Number:*******3456CLAIM ACCP.O.Box 111,LONDON,0001,\\\n",
    "Tel: 123445678, Website:http://www.samplename.gov.zzREMITTANCE ADVICE\"\n",
    "\n",
    "# vendor name\n",
    "vendor_name = re.search(r'Vendor Name:([A-Z]).+?(?=Payment)', invoice)\n",
    "m = vendor_name.group().split(\":\")[1]\n",
    "if m:\n",
    "    print(\"Vendor Name= \", m)\n",
    "\n",
    "# vendor number\n",
    "vendor_number = re.search(r'Vendor Number:([0-9])+', invoice) \n",
    "m = vendor_number.group().split(\":\")[1]\n",
    "if m:\n",
    "    print(\"Vendor Number= \", m)"
   ]
  },
  {
   "cell_type": "code",
   "execution_count": 87,
   "metadata": {},
   "outputs": [
    {
     "name": "stdout",
     "output_type": "stream",
     "text": [
      "m.group() =  13 etage\n",
      "\n",
      "Use split and slice to get just the number and convert to an int\n",
      "\n",
      "<class 'int'>\n"
     ]
    }
   ],
   "source": [
    "property_data = \"100cat 200cat 13 etage 400cat 500car 5etage\"\n",
    "\n",
    "# Find number before Etage!\n",
    "m = re.search(\"(\\d+)(\\s[Ee]tage)\", property_data)\n",
    "\n",
    "print(f\"m.group() =  {m.group()}\\n\")\n",
    "print(\"Use split and slice to get just the number and convert to an int\\n\")\n",
    "\n",
    "m=m.group().split()[0]\n",
    "\n",
    "if m:\n",
    "    m = (int(m))\n",
    "    print(type(m))"
   ]
  },
  {
   "cell_type": "code",
   "execution_count": null,
   "metadata": {},
   "outputs": [],
   "source": []
  }
 ],
 "metadata": {
  "kernelspec": {
   "display_name": "Python 3",
   "language": "python",
   "name": "python3"
  },
  "language_info": {
   "codemirror_mode": {
    "name": "ipython",
    "version": 3
   },
   "file_extension": ".py",
   "mimetype": "text/x-python",
   "name": "python",
   "nbconvert_exporter": "python",
   "pygments_lexer": "ipython3",
   "version": "3.8.5"
  }
 },
 "nbformat": 4,
 "nbformat_minor": 4
}
