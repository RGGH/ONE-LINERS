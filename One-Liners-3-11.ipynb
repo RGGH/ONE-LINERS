{
 "cells": [
  {
   "cell_type": "markdown",
   "metadata": {},
   "source": [
    "#### 3-11"
   ]
  },
  {
   "cell_type": "code",
   "execution_count": 3,
   "metadata": {},
   "outputs": [],
   "source": [
    "## dependencies\n",
    "import numpy as np\n",
    "\n",
    "## Data; Yearly salary in($1000) [2025,2026,2027]\n",
    "dataScientist = [130,132,137]\n",
    "productManager = [127,140,145]\n",
    "designer = [118,118,127]\n",
    "softwareEngineer = [129,131,137]\n",
    "\n",
    "employees = np.array([\n",
    "    dataScientist,\n",
    "    productManager,\n",
    "    designer,\n",
    "    softwareEngineer\n",
    "])"
   ]
  },
  {
   "cell_type": "code",
   "execution_count": 4,
   "metadata": {},
   "outputs": [],
   "source": [
    "## one liner\n",
    "employees[0,::2] = employees[0,::2] * 1.1"
   ]
  },
  {
   "cell_type": "code",
   "execution_count": 5,
   "metadata": {},
   "outputs": [
    {
     "name": "stdout",
     "output_type": "stream",
     "text": [
      "[[143 132 150]\n",
      " [127 140 145]\n",
      " [118 118 127]\n",
      " [129 131 137]]\n"
     ]
    }
   ],
   "source": [
    "## result\n",
    "print(employees)"
   ]
  }
 ],
 "metadata": {
  "kernelspec": {
   "display_name": "Python 3",
   "language": "python",
   "name": "python3"
  },
  "language_info": {
   "codemirror_mode": {
    "name": "ipython",
    "version": 3
   },
   "file_extension": ".py",
   "mimetype": "text/x-python",
   "name": "python",
   "nbconvert_exporter": "python",
   "pygments_lexer": "ipython3",
   "version": "3.8.5"
  }
 },
 "nbformat": 4,
 "nbformat_minor": 4
}
