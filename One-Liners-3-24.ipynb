{
 "cells": [
  {
   "cell_type": "code",
   "execution_count": 7,
   "id": "9f933088",
   "metadata": {},
   "outputs": [
    {
     "name": "stdout",
     "output_type": "stream",
     "text": [
      "[['coffee numpy' '4.6']\n",
      " ['lord rings' '5.0']\n",
      " ['h potter' '4.3']\n",
      " ['cofffe python' '4.7']]\n"
     ]
    }
   ],
   "source": [
    "import numpy as np\n",
    "\n",
    "books = np.array([['coffee numpy',4.6],\n",
    "                 ['lord rings',5.0],\n",
    "                 ['h potter',4.3],\n",
    "                 ['win poo',3.9],\n",
    "                 ['clown o god',2.2],\n",
    "                 ['cofffe python',4.7]])\n",
    "\n",
    "predict_bestseller = (lambda x,y : x[x[:,1].astype(float) >y])\n",
    "\n",
    "predict = predict_bestseller(books,3.9)\n",
    "\n",
    "print(predict)"
   ]
  }
 ],
 "metadata": {
  "kernelspec": {
   "display_name": "Python 3",
   "language": "python",
   "name": "python3"
  },
  "language_info": {
   "codemirror_mode": {
    "name": "ipython",
    "version": 3
   },
   "file_extension": ".py",
   "mimetype": "text/x-python",
   "name": "python",
   "nbconvert_exporter": "python",
   "pygments_lexer": "ipython3",
   "version": "3.9.5"
  }
 },
 "nbformat": 4,
 "nbformat_minor": 5
}
