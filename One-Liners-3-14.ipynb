{
 "cells": [
  {
   "cell_type": "code",
   "execution_count": 2,
   "metadata": {},
   "outputs": [
    {
     "name": "stdout",
     "output_type": "stream",
     "text": [
      "2\n",
      "[[ True  True  True  True  True  True]\n",
      " [ True  True  True  True  True  True]\n",
      " [False False  True False False False]\n",
      " [False False False False False False]]\n",
      "(array([0, 0, 0, 0, 0, 0, 1, 1, 1, 1, 1, 1, 2], dtype=int32), array([0, 1, 2, 3, 4, 5, 0, 1, 2, 3, 4, 5, 2], dtype=int32))\n"
     ]
    }
   ],
   "source": [
    "# 3-14 One Liners\n",
    "import numpy as np\n",
    "\n",
    "# list of lists\n",
    "X = np.array([\n",
    "    [42,40,41,43,44,43], # Hong Kong\n",
    "    [30,31,29,29,29,30], # New York\n",
    "    [8,13,31,11,11,9],   # Berlin\n",
    "    [11,11,12,13,11,12]  # Montreal\n",
    "    ])\n",
    "\n",
    "# check the array dimensions\n",
    "print(X.ndim)\n",
    "\n",
    "cities = np.array([\"Hong Kong\",\"New York\",\"Berlin\",\"Montreal\"])\n",
    "\n",
    "# Boolean array using broadcasting\n",
    "print(X > np.average(X))\n",
    "\n",
    "print(np.nonzero(X > np.average(X))) # prints row,col indices for True (\"1\") in X"
   ]
  }
 ],
 "metadata": {
  "kernelspec": {
   "display_name": "Python 3",
   "language": "python",
   "name": "python3"
  },
  "language_info": {
   "codemirror_mode": {
    "name": "ipython",
    "version": 3
   },
   "file_extension": ".py",
   "mimetype": "text/x-python",
   "name": "python",
   "nbconvert_exporter": "python",
   "pygments_lexer": "ipython3",
   "version": "3.8.1"
  }
 },
 "nbformat": 4,
 "nbformat_minor": 4
}
