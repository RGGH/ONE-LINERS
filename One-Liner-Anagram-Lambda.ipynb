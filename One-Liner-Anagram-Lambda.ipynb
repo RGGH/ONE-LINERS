{
 "cells": [
  {
   "cell_type": "code",
   "execution_count": 15,
   "id": "396094ae",
   "metadata": {},
   "outputs": [],
   "source": [
    "is_anagram = (lambda x,y : sorted(x)==sorted(y))"
   ]
  },
  {
   "cell_type": "raw",
   "id": "e8daf373",
   "metadata": {},
   "source": []
  },
  {
   "cell_type": "code",
   "execution_count": 16,
   "id": "0bfab496",
   "metadata": {},
   "outputs": [
    {
     "data": {
      "text/plain": [
       "True"
      ]
     },
     "execution_count": 16,
     "metadata": {},
     "output_type": "execute_result"
    }
   ],
   "source": [
    "res = is_anagram(\"elvis\",\"lives\")\n",
    "res"
   ]
  }
 ],
 "metadata": {
  "kernelspec": {
   "display_name": "Python 3",
   "language": "python",
   "name": "python3"
  },
  "language_info": {
   "codemirror_mode": {
    "name": "ipython",
    "version": 3
   },
   "file_extension": ".py",
   "mimetype": "text/x-python",
   "name": "python",
   "nbconvert_exporter": "python",
   "pygments_lexer": "ipython3",
   "version": "3.9.5"
  }
 },
 "nbformat": 4,
 "nbformat_minor": 5
}
