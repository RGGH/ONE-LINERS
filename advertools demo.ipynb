{
 "cells": [
  {
   "cell_type": "markdown",
   "id": "brown-shell",
   "metadata": {},
   "source": [
    "## Get pdfs from a site using links found + modified from sitemap.xml"
   ]
  },
  {
   "cell_type": "code",
   "execution_count": 11,
   "id": "acoustic-parcel",
   "metadata": {},
   "outputs": [],
   "source": [
    "import pandas as pd\n",
    "import advertools as adv"
   ]
  },
  {
   "cell_type": "code",
   "execution_count": 12,
   "id": "brown-cooperation",
   "metadata": {},
   "outputs": [
    {
     "name": "stderr",
     "output_type": "stream",
     "text": [
      "2021-05-05 10:47:33,762 | INFO | sitemaps.py:419 | sitemap_to_df | Getting https://www.adb.org/sitemap.xml?page=2\n",
      "2021-05-05 10:47:34,811 | INFO | sitemaps.py:419 | sitemap_to_df | Getting https://www.adb.org/sitemap.xml?page=1\n"
     ]
    }
   ],
   "source": [
    "so = adv.sitemap_to_df('https://www.adb.org/sitemap.xml')"
   ]
  },
  {
   "cell_type": "code",
   "execution_count": 14,
   "id": "architectural-casino",
   "metadata": {},
   "outputs": [],
   "source": [
    "so = so[so['loc'].str.contains(\"tar\")]"
   ]
  },
  {
   "cell_type": "code",
   "execution_count": 15,
   "id": "satellite-theorem",
   "metadata": {},
   "outputs": [
    {
     "data": {
      "text/plain": [
       "10                                      https://www.adb.org/projects/documents/reg-52239-001-tar\n",
       "11                                      https://www.adb.org/projects/documents/reg-52004-001-tar\n",
       "50     https://www.adb.org/documents/india-uttarakhand-power-sector-investment-program-tranche-3\n",
       "51     https://www.adb.org/documents/india-uttarakhand-power-sector-investment-program-tranche-2\n",
       "156                                     https://www.adb.org/projects/documents/reg-50404-001-tar\n",
       "230                                     https://www.adb.org/projects/documents/reg-52259-001-tar\n",
       "373                                     https://www.adb.org/projects/documents/reg-52183-001-tar\n",
       "374                                     https://www.adb.org/projects/documents/reg-52284-001-tar\n",
       "376                                     https://www.adb.org/projects/documents/phi-52257-001-tar\n",
       "391                                     https://www.adb.org/projects/documents/reg-50266-001-tar\n",
       "Name: loc, dtype: object"
      ]
     },
     "execution_count": 15,
     "metadata": {},
     "output_type": "execute_result"
    }
   ],
   "source": [
    "so['loc'].head(10)"
   ]
  },
  {
   "cell_type": "code",
   "execution_count": null,
   "id": "signal-folks",
   "metadata": {},
   "outputs": [],
   "source": [
    "# https://www.adb.org/sites/default/files/project-documents/50266/50266-001-tar-en.pdf"
   ]
  },
  {
   "cell_type": "code",
   "execution_count": null,
   "id": "stainless-paris",
   "metadata": {},
   "outputs": [],
   "source": [
    "# https://www.adb.org/projects/documents/phi-52257-001-tar"
   ]
  },
  {
   "cell_type": "code",
   "execution_count": null,
   "id": "educational-combining",
   "metadata": {},
   "outputs": [],
   "source": [
    "# modify the path from a link we've manually clicked on and recreate it but use a different 'tar' id number"
   ]
  },
  {
   "cell_type": "code",
   "execution_count": 36,
   "id": "available-miniature",
   "metadata": {},
   "outputs": [],
   "source": [
    "url = \"https://www.adb.org/sites/default/files/project-documents/52257/52257-001-tar-en.pdf \""
   ]
  },
  {
   "cell_type": "code",
   "execution_count": 38,
   "id": "adjacent-salad",
   "metadata": {},
   "outputs": [
    {
     "data": {
      "text/plain": [
       "'52257'"
      ]
     },
     "execution_count": 38,
     "metadata": {},
     "output_type": "execute_result"
    }
   ],
   "source": [
    "x = url.split(\"-\")\n",
    "x =x[1].split(\"/\")\n",
    "x[2]"
   ]
  },
  {
   "cell_type": "markdown",
   "id": "excellent-panama",
   "metadata": {},
   "source": [
    "#### This works! - create a for loop based on len of so and get all the pdfs as required!"
   ]
  },
  {
   "cell_type": "code",
   "execution_count": null,
   "id": "random-conducting",
   "metadata": {},
   "outputs": [],
   "source": []
  }
 ],
 "metadata": {
  "kernelspec": {
   "display_name": "Python 3",
   "language": "python",
   "name": "python3"
  },
  "language_info": {
   "codemirror_mode": {
    "name": "ipython",
    "version": 3
   },
   "file_extension": ".py",
   "mimetype": "text/x-python",
   "name": "python",
   "nbconvert_exporter": "python",
   "pygments_lexer": "ipython3",
   "version": "3.9.2"
  }
 },
 "nbformat": 4,
 "nbformat_minor": 5
}
