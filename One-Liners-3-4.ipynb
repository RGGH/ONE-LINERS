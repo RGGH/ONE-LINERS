{
 "cells": [
  {
   "cell_type": "code",
   "execution_count": 33,
   "metadata": {},
   "outputs": [],
   "source": [
    "import numpy as np\n",
    "\n",
    "#### Data\n",
    "alice = [99,101,103]\n",
    "bob = [110,108,105]\n",
    "tim = [90,88,85]\n",
    "\n",
    "salaries = np.array([alice,bob,tim])\n",
    "\n",
    "##### Tax rates for past 3 years - List of lists - ie 2d array\n",
    "taxation = np.array([[0.2,0.25,0.22],\n",
    "                    [0.4,0.5,0.22],\n",
    "                    [0.1,0.2,0.3]])"
   ]
  },
  {
   "cell_type": "code",
   "execution_count": 34,
   "metadata": {},
   "outputs": [
    {
     "data": {
      "text/plain": [
       "array([[ 99, 101, 103],\n",
       "       [110, 108, 105],\n",
       "       [ 90,  88,  85]])"
      ]
     },
     "execution_count": 34,
     "metadata": {},
     "output_type": "execute_result"
    }
   ],
   "source": [
    "salaries"
   ]
  },
  {
   "cell_type": "markdown",
   "metadata": {},
   "source": [
    "## One Liner :"
   ]
  },
  {
   "cell_type": "code",
   "execution_count": 35,
   "metadata": {},
   "outputs": [
    {
     "data": {
      "text/plain": [
       "81.9"
      ]
     },
     "execution_count": 35,
     "metadata": {},
     "output_type": "execute_result"
    }
   ],
   "source": [
    "## one liner\n",
    "max_income = np.max(salaries - (salaries * taxation))\n",
    "max_income"
   ]
  },
  {
   "cell_type": "code",
   "execution_count": 36,
   "metadata": {},
   "outputs": [
    {
     "name": "stdout",
     "output_type": "stream",
     "text": [
      "[[79.2  75.75 80.34]\n",
      " [66.   54.   81.9 ]\n",
      " [81.   70.4  59.5 ]]\n"
     ]
    }
   ],
   "source": [
    "### result\n",
    "print(salaries - salaries * taxation)"
   ]
  }
 ],
 "metadata": {
  "kernelspec": {
   "display_name": "Python 3",
   "language": "python",
   "name": "python3"
  },
  "language_info": {
   "codemirror_mode": {
    "name": "ipython",
    "version": 3
   },
   "file_extension": ".py",
   "mimetype": "text/x-python",
   "name": "python",
   "nbconvert_exporter": "python",
   "pygments_lexer": "ipython3",
   "version": "3.8.5"
  }
 },
 "nbformat": 4,
 "nbformat_minor": 4
}
